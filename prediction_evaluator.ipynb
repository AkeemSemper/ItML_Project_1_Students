{
 "cells": [
  {
   "cell_type": "code",
   "execution_count": 65,
   "metadata": {},
   "outputs": [],
   "source": [
    "import pandas as pd"
   ]
  },
  {
   "cell_type": "markdown",
   "metadata": {},
   "source": [
    "### Evaluator of Comment Accuracy"
   ]
  },
  {
   "cell_type": "code",
   "execution_count": 66,
   "metadata": {},
   "outputs": [],
   "source": [
    "def scoreChecker(df_sub, df_correct):\n",
    "    check_full = pd.merge(df_sub, df_correct, how='inner', left_on = 'id', right_on = 'id')\n",
    "    corr_cols = [\"toxic_y\", \"severe_toxic_y\", \"obscene_y\", \"threat_y\", \"insult_y\", \"identity_hate_y\"]\n",
    "    sub_cols = [\"toxic_x\", \"severe_toxic_x\", \"obscene_x\", \"threat_x\", \"insult_x\", \"identity_hate_x\"]\n",
    "    first_val = \"toxic_y\"\n",
    "    correct = 0\n",
    "    total = 0\n",
    "    #print(check_full)\n",
    "    for index, sub_row in check_full.iterrows():\n",
    "        if sub_row[first_val] >= 0:\n",
    "            total += len(corr_cols)\n",
    "            for i in range(len(corr_cols)):\n",
    "                if sub_row[sub_cols[i]] == sub_row[corr_cols[i]]:\n",
    "                    correct += 1\n",
    "    \n",
    "    return correct, total, check_full"
   ]
  },
  {
   "cell_type": "code",
   "execution_count": 67,
   "metadata": {},
   "outputs": [],
   "source": [
    "#submission = pd.read_csv(\"1221/Adam Sykes_7308932_assignsubmission_file_out.csv\")\n",
    "#key = pd.read_csv(\"test_labels.csv\")\n",
    "#print(submission.shape, key.shape)"
   ]
  },
  {
   "cell_type": "code",
   "execution_count": 68,
   "metadata": {},
   "outputs": [],
   "source": [
    "#correct, total, df_res = scoreChecker(submission, key)\n",
    "#print(correct, total, (correct*100/total))\n",
    "#df_res.head()"
   ]
  },
  {
   "attachments": {},
   "cell_type": "markdown",
   "metadata": {},
   "source": [
    "### Loop"
   ]
  },
  {
   "cell_type": "code",
   "execution_count": null,
   "metadata": {},
   "outputs": [],
   "source": [
    "df = pd.DataFrame(columns=[\"file\", \"accuracy\"])\n",
    "key = pd.read_csv(\"test_labels.csv\")\n",
    "\n",
    "# Loop through the 1221 folder and get the accuracy of each file\n",
    "import os\n",
    "for file in os.listdir(\"1221\"):\n",
    "    if os.path.isdir(\"1221/\" + file):\n",
    "        continue\n",
    "    submission = pd.read_csv(\"1221/\" + file, encoding= 'unicode_escape')\n",
    "    correct, total, df_res = scoreChecker(submission, key)\n",
    "    df = df.append({\"file\": file, \"accuracy\": correct*100/total}, ignore_index=True)\n",
    "\n",
    "df.to_csv(\"1221_accuracy.csv\")\n",
    "df.head(15)"
   ]
  },
  {
   "cell_type": "code",
   "execution_count": 71,
   "metadata": {},
   "outputs": [
    {
     "data": {
      "text/html": [
       "<div>\n",
       "<style scoped>\n",
       "    .dataframe tbody tr th:only-of-type {\n",
       "        vertical-align: middle;\n",
       "    }\n",
       "\n",
       "    .dataframe tbody tr th {\n",
       "        vertical-align: top;\n",
       "    }\n",
       "\n",
       "    .dataframe thead th {\n",
       "        text-align: right;\n",
       "    }\n",
       "</style>\n",
       "<table border=\"1\" class=\"dataframe\">\n",
       "  <thead>\n",
       "    <tr style=\"text-align: right;\">\n",
       "      <th></th>\n",
       "      <th>file</th>\n",
       "      <th>accuracy</th>\n",
       "    </tr>\n",
       "  </thead>\n",
       "  <tbody>\n",
       "    <tr>\n",
       "      <th>0</th>\n",
       "      <td>Chuan Yong Guo_7308924_assignsubmission_file_o...</td>\n",
       "      <td>97.409526</td>\n",
       "    </tr>\n",
       "    <tr>\n",
       "      <th>1</th>\n",
       "      <td>Sijia Hao_7308928_assignsubmission_file_out.csv</td>\n",
       "      <td>97.409526</td>\n",
       "    </tr>\n",
       "    <tr>\n",
       "      <th>2</th>\n",
       "      <td>Adam Sykes_7308932_assignsubmission_file_out.csv</td>\n",
       "      <td>95.461982</td>\n",
       "    </tr>\n",
       "    <tr>\n",
       "      <th>3</th>\n",
       "      <td>Azim Ibrahim_7308939_assignsubmission_file_out...</td>\n",
       "      <td>97.454594</td>\n",
       "    </tr>\n",
       "    <tr>\n",
       "      <th>4</th>\n",
       "      <td>Chun Chiu_7308936_assignsubmission_file_out.csv</td>\n",
       "      <td>97.407442</td>\n",
       "    </tr>\n",
       "    <tr>\n",
       "      <th>5</th>\n",
       "      <td>Darren Lee_7308941_assignsubmission_file_out.csv</td>\n",
       "      <td>97.155012</td>\n",
       "    </tr>\n",
       "    <tr>\n",
       "      <th>6</th>\n",
       "      <td>Nneka Okoh_7308937_assignsubmission_file_out.csv</td>\n",
       "      <td>96.730386</td>\n",
       "    </tr>\n",
       "    <tr>\n",
       "      <th>7</th>\n",
       "      <td>Rodrigo Sunio_7308931_assignsubmission_file_ou...</td>\n",
       "      <td>96.116373</td>\n",
       "    </tr>\n",
       "    <tr>\n",
       "      <th>8</th>\n",
       "      <td>Taranom Zareeian_7308927_assignsubmission_file...</td>\n",
       "      <td>96.202080</td>\n",
       "    </tr>\n",
       "    <tr>\n",
       "      <th>9</th>\n",
       "      <td>Prajesh Patel_7308935_assignsubmission_file_ou...</td>\n",
       "      <td>97.454594</td>\n",
       "    </tr>\n",
       "    <tr>\n",
       "      <th>10</th>\n",
       "      <td>isaac_2_mod.csv</td>\n",
       "      <td>97.380349</td>\n",
       "    </tr>\n",
       "    <tr>\n",
       "      <th>11</th>\n",
       "      <td>tolu_2_mod.csv</td>\n",
       "      <td>96.730386</td>\n",
       "    </tr>\n",
       "    <tr>\n",
       "      <th>12</th>\n",
       "      <td>._Prajesh Patel_7308935_assignsubmission_file_...</td>\n",
       "      <td>96.730386</td>\n",
       "    </tr>\n",
       "  </tbody>\n",
       "</table>\n",
       "</div>"
      ],
      "text/plain": [
       "                                                 file   accuracy\n",
       "0   Chuan Yong Guo_7308924_assignsubmission_file_o...  97.409526\n",
       "1     Sijia Hao_7308928_assignsubmission_file_out.csv  97.409526\n",
       "2    Adam Sykes_7308932_assignsubmission_file_out.csv  95.461982\n",
       "3   Azim Ibrahim_7308939_assignsubmission_file_out...  97.454594\n",
       "4     Chun Chiu_7308936_assignsubmission_file_out.csv  97.407442\n",
       "5    Darren Lee_7308941_assignsubmission_file_out.csv  97.155012\n",
       "6    Nneka Okoh_7308937_assignsubmission_file_out.csv  96.730386\n",
       "7   Rodrigo Sunio_7308931_assignsubmission_file_ou...  96.116373\n",
       "8   Taranom Zareeian_7308927_assignsubmission_file...  96.202080\n",
       "9   Prajesh Patel_7308935_assignsubmission_file_ou...  97.454594\n",
       "10                                    isaac_2_mod.csv  97.380349\n",
       "11                                     tolu_2_mod.csv  96.730386\n",
       "12  ._Prajesh Patel_7308935_assignsubmission_file_...  96.730386"
      ]
     },
     "execution_count": 71,
     "metadata": {},
     "output_type": "execute_result"
    }
   ],
   "source": [
    "tmp = pd.read_csv(\"1221/isaac_2_mod.csv\")\n",
    "correct, total, df_res = scoreChecker(tmp, key)\n",
    "df.append({\"file\": file, \"accuracy\": correct*100/total}, ignore_index=True)\n",
    "\n",
    "tmp = pd.read_csv(\"1221/tolu_2_mod.csv\")\n",
    "correct, total, df_res = scoreChecker(tmp, key)\n",
    "df.append({\"file\": file, \"accuracy\": correct*100/total}, ignore_index=True)"
   ]
  }
 ],
 "metadata": {
  "interpreter": {
   "hash": "4d722d3adfa415172c1f5238b519fb86b488acdae450fd691ab06c09f4ca9173"
  },
  "kernelspec": {
   "display_name": "Python 3.9.7 64-bit ('ml3950': conda)",
   "language": "python",
   "name": "python3"
  },
  "language_info": {
   "codemirror_mode": {
    "name": "ipython",
    "version": 3
   },
   "file_extension": ".py",
   "mimetype": "text/x-python",
   "name": "python",
   "nbconvert_exporter": "python",
   "pygments_lexer": "ipython3",
   "version": "3.9.7"
  },
  "orig_nbformat": 4
 },
 "nbformat": 4,
 "nbformat_minor": 2
}
